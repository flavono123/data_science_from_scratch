{
 "cells": [
  {
   "cell_type": "markdown",
   "metadata": {},
   "source": [
    "# Chapter 6. Probability"
   ]
  },
  {
   "cell_type": "markdown",
   "metadata": {},
   "source": [
    "*E*에 대한 확률"
   ]
  },
  {
   "cell_type": "code",
   "execution_count": 3,
   "metadata": {},
   "outputs": [
    {
     "data": {
      "text/latex": [
       "$$P(E)$$"
      ],
      "text/plain": [
       "<IPython.core.display.Latex object>"
      ]
     },
     "metadata": {},
     "output_type": "display_data"
    }
   ],
   "source": [
    "%%latex\n",
    "$$P(E)$$"
   ]
  },
  {
   "cell_type": "markdown",
   "metadata": {},
   "source": [
    "## Dependence and Independence"
   ]
  },
  {
   "cell_type": "markdown",
   "metadata": {},
   "source": [
    "두 사건: $E$, $F$\n",
    "* 종속성 - $E$의 발생 여부가 $F$의 발생 여부에 대한 **정보를 제공한다면** ($F$, $E$로 바꿔도 성립)\n",
    "  \n",
    "* 독립성 - ... 그렇지 않다면(**정보를 제공하지 않는다면**)"
   ]
  },
  {
   "cell_type": "markdown",
   "metadata": {},
   "source": [
    "수학적으로, 독립적; 두 사건이 발생할 확률 == 각 사건이 발생할 확률의 곱"
   ]
  },
  {
   "cell_type": "code",
   "execution_count": 4,
   "metadata": {},
   "outputs": [
    {
     "data": {
      "text/latex": [
       "$$P(E, F) = P(E)P(F)$$"
      ],
      "text/plain": [
       "<IPython.core.display.Latex object>"
      ]
     },
     "metadata": {},
     "output_type": "display_data"
    }
   ],
   "source": [
    "%%latex\n",
    "$$P(E, F) = P(E)P(F)$$"
   ]
  },
  {
   "cell_type": "markdown",
   "metadata": {},
   "source": [
    "## Conditional Probability"
   ]
  },
  {
   "cell_type": "markdown",
   "metadata": {},
   "source": [
    "The probability of $E$ \"conditional on $F$\"; 반드시 독립적이란 보장이 없다면(not necessarily independent = **종속적이면**) + $F$의 확률이 0이 아니라면"
   ]
  },
  {
   "cell_type": "code",
   "execution_count": 5,
   "metadata": {},
   "outputs": [
    {
     "data": {
      "text/latex": [
       "$$P(E|F) = P(E, F)/P(F)$$"
      ],
      "text/plain": [
       "<IPython.core.display.Latex object>"
      ]
     },
     "metadata": {},
     "output_type": "display_data"
    }
   ],
   "source": [
    "%%latex\n",
    "$$P(E|F) = P(E, F)/P(F)$$"
   ]
  },
  {
   "cell_type": "code",
   "execution_count": 6,
   "metadata": {},
   "outputs": [
    {
     "data": {
      "text/latex": [
       "$$P(E, F) = P(E|F)P(F)$$"
      ],
      "text/plain": [
       "<IPython.core.display.Latex object>"
      ]
     },
     "metadata": {},
     "output_type": "display_data"
    }
   ],
   "source": [
    "%%latex\n",
    "$$P(E, F) = P(E|F)P(F)$$"
   ]
  },
  {
   "cell_type": "markdown",
   "metadata": {},
   "source": [
    "$E$, $F$가 독립적이라면"
   ]
  },
  {
   "cell_type": "code",
   "execution_count": 7,
   "metadata": {},
   "outputs": [
    {
     "data": {
      "text/latex": [
       "$$P(E|F) = P(E)$$"
      ],
      "text/plain": [
       "<IPython.core.display.Latex object>"
      ]
     },
     "metadata": {},
     "output_type": "display_data"
    }
   ],
   "source": [
    "%%latex\n",
    "$$P(E|F) = P(E)$$"
   ]
  },
  {
   "cell_type": "code",
   "execution_count": 8,
   "metadata": {},
   "outputs": [
    {
     "data": {
      "text/latex": [
       "$$P(E|F)\n",
       "= P(E, F)/P(F)\n",
       "= P(E)P(F)/P(F)\n",
       "= P(E)$$"
      ],
      "text/plain": [
       "<IPython.core.display.Latex object>"
      ]
     },
     "metadata": {},
     "output_type": "display_data"
    }
   ],
   "source": [
    "%%latex\n",
    "$$P(E|F)\n",
    "= P(E, F)/P(F)\n",
    "= P(E)P(F)/P(F)\n",
    "= P(E)$$"
   ]
  },
  {
   "cell_type": "markdown",
   "metadata": {},
   "source": [
    "$F$가 발생함이 $E$가 발생할지에 대한 정보를 주지 않음"
   ]
  },
  {
   "cell_type": "markdown",
   "metadata": {},
   "source": [
    "Tricky Example; 두 아이의 성별\n",
    "가정:\n",
    "1. 딸/아들일 확률은 동일\n",
    "2. 첫째와 둘째의 성별은 독립적"
   ]
  },
  {
   "cell_type": "markdown",
   "metadata": {},
   "source": [
    "* \"no girls\" - 1/4\n",
    "* \"one boy, one girl\" - 1/2\n",
    "* \"two grils\" - 1/4"
   ]
  },
  {
   "cell_type": "markdown",
   "metadata": {},
   "source": [
    "$G$ - 첫째가 딸 / $B$ - 둘 다 딸 ... $B$ conditional on $G$?"
   ]
  },
  {
   "cell_type": "code",
   "execution_count": 9,
   "metadata": {},
   "outputs": [
    {
     "data": {
      "text/latex": [
       "$$P(B|G)\n",
       "= P(B, G)/P(G)\n",
       "= P(B)/P(G)\n",
       "= 1/2$$"
      ],
      "text/plain": [
       "<IPython.core.display.Latex object>"
      ]
     },
     "metadata": {},
     "output_type": "display_data"
    }
   ],
   "source": [
    "%%latex\n",
    "$$P(B|G)\n",
    "= P(B, G)/P(G)\n",
    "= P(B)/P(G)\n",
    "= 1/2$$"
   ]
  },
  {
   "cell_type": "markdown",
   "metadata": {},
   "source": [
    "첫째가 딸이고 둘 다 딸일 확률; $P(B, G)$ == 둘 다 딸일 확률; $P(B)$ (직관적인 결과)"
   ]
  },
  {
   "cell_type": "markdown",
   "metadata": {},
   "source": [
    "$L$ - 적어도 딸 하나 ... $B$ conditional on $L$?"
   ]
  },
  {
   "cell_type": "code",
   "execution_count": 10,
   "metadata": {},
   "outputs": [
    {
     "data": {
      "text/latex": [
       "$$P(B|L)\n",
       "= P(B, L)/P(L)\n",
       "= P(B)/P(L)\n",
       "= 1/3$$"
      ],
      "text/plain": [
       "<IPython.core.display.Latex object>"
      ]
     },
     "metadata": {},
     "output_type": "display_data"
    }
   ],
   "source": [
    "%%latex\n",
    "$$P(B|L)\n",
    "= P(B, L)/P(L)\n",
    "= P(B)/P(L)\n",
    "= 1/3$$"
   ]
  },
  {
   "cell_type": "markdown",
   "metadata": {},
   "source": [
    "적어도 하난 딸이고 둘 다 딸일 확률; $P(B, L)$  == 둘 다 딸일 확률; $P(B)$"
   ]
  },
  {
   "cell_type": "code",
   "execution_count": 16,
   "metadata": {},
   "outputs": [
    {
     "name": "stdout",
     "output_type": "stream",
     "text": [
      "P(B|G): 0.5007089325501317\n",
      "P(B|L): 0.3311897106109325\n"
     ]
    }
   ],
   "source": [
    "import random\n",
    "\n",
    "def random_kid():\n",
    "    return random.choice([\"boy\", \"girl\"])\n",
    "\n",
    "both_girls = 0\n",
    "older_girl = 0\n",
    "either_girl = 0\n",
    "\n",
    "random.seed(0)\n",
    "for _ in range(10000):\n",
    "    younger = random_kid()\n",
    "    older = random_kid()\n",
    "    if older == \"girl\":\n",
    "        older_girl += 1\n",
    "    if older == \"girl\" and younger == \"girl\":\n",
    "        both_girls += 1\n",
    "    if older == \"girl\" or younger == \"girl\":\n",
    "        either_girl += 1\n",
    "\n",
    "print(\"P(B|G):\", both_girls / older_girl)\n",
    "print(\"P(B|L):\", both_girls / either_girl)"
   ]
  },
  {
   "cell_type": "markdown",
   "metadata": {},
   "source": [
    "## Bayes's Theroem"
   ]
  },
  {
   "cell_type": "markdown",
   "metadata": {},
   "source": [
    "\"reversing\" conditional probability"
   ]
  },
  {
   "cell_type": "markdown",
   "metadata": {},
   "source": [
    "$E$ conditional on $F$의 확률을 알고 싶은데, $P(E|F)$       \n",
    "$F$ conditional on $E$의 확률만 알고 있다. $P(F|E)$ (*reversed*)\n",
    "\n",
    "조건부확률의 정의 두 번 사용"
   ]
  },
  {
   "cell_type": "code",
   "execution_count": 12,
   "metadata": {},
   "outputs": [
    {
     "data": {
      "text/latex": [
       "$$P(E|F) \n",
       "= P(E, F)/P(F) \n",
       "= P(F|E)P(E)/P(F)$$"
      ],
      "text/plain": [
       "<IPython.core.display.Latex object>"
      ]
     },
     "metadata": {},
     "output_type": "display_data"
    }
   ],
   "source": [
    "%%latex\n",
    "$$P(E|F) \n",
    "= P(E, F)/P(F) \n",
    "= P(F|E)P(E)/P(F)$$"
   ]
  },
  {
   "cell_type": "markdown",
   "metadata": {},
   "source": [
    "$P(F) = P(F, E) + P(F, \\neg E)$  ... mutually exclusive"
   ]
  },
  {
   "cell_type": "code",
   "execution_count": 13,
   "metadata": {},
   "outputs": [
    {
     "data": {
      "text/latex": [
       "$$\n",
       "P(F)\n",
       "= P(F, E) + P(F, \\neg E)\n",
       "= P(F|E)P(E) + P(F|\\neg E)P(\\neg E)\n",
       "$$"
      ],
      "text/plain": [
       "<IPython.core.display.Latex object>"
      ]
     },
     "metadata": {},
     "output_type": "display_data"
    }
   ],
   "source": [
    "%%latex\n",
    "$$\n",
    "P(F)\n",
    "= P(F, E) + P(F, \\neg E)\n",
    "= P(F|E)P(E) + P(F|\\neg E)P(\\neg E)\n",
    "$$"
   ]
  },
  {
   "cell_type": "markdown",
   "metadata": {},
   "source": [
    "**Bayes's Theorem**"
   ]
  },
  {
   "cell_type": "code",
   "execution_count": 14,
   "metadata": {},
   "outputs": [
    {
     "data": {
      "text/latex": [
       "$$\n",
       "P(E|F)\n",
       "= P(F|E)P(E)/[P(F|E)P(E)+P(F|\\neg E)P(\\neg E)]\n",
       "$$"
      ],
      "text/plain": [
       "<IPython.core.display.Latex object>"
      ]
     },
     "metadata": {},
     "output_type": "display_data"
    }
   ],
   "source": [
    "%%latex\n",
    "$$\n",
    "P(E|F)\n",
    "= P(F|E)P(E)/[P(F|E)P(E)+P(F|\\neg E)P(\\neg E)]\n",
    "$$"
   ]
  },
  {
   "cell_type": "markdown",
   "metadata": {},
   "source": [
    "발병률(affects in every 10,000 people) - **1/10_000**   \n",
    "테스트 정확도(\"diseased\" if you have the disease, \"nondiseased\" if you don't) - **99%**"
   ]
  },
  {
   "cell_type": "markdown",
   "metadata": {},
   "source": [
    "*양성* 테스트 정확도(\"diseased\" if you have the disease, ~~\"nondiseased\" if you don't~~) - **99%**"
   ]
  },
  {
   "cell_type": "markdown",
   "metadata": {},
   "source": [
    "$T$ - 양성    \n",
    "$D$ - 병에 걸림"
   ]
  },
  {
   "cell_type": "markdown",
   "metadata": {},
   "source": [
    "$P(D) = 0.0001$ 발병률\n",
    "\n",
    "\n",
    "$P(T|D) = 0.99$ 병에 걸렸을 때 양성일 확률 (??)\n",
    "\n",
    "\n",
    "$P(T|\\neg D) = 0.01$ 병에 안걸렸는데 양성일 확률 (???)\n",
    "\n",
    "\n",
    "$P(\\neg D) = 0.9999$ 병에 안걸렸을 확률"
   ]
  },
  {
   "cell_type": "code",
   "execution_count": 15,
   "metadata": {},
   "outputs": [
    {
     "data": {
      "text/latex": [
       "$$\n",
       "P(D|T)\n",
       "= P(T|D)P(D)/[P(T|D)P(D) + P(T|\\neg D)P(\\neg D)]\n",
       "$$"
      ],
      "text/plain": [
       "<IPython.core.display.Latex object>"
      ]
     },
     "metadata": {},
     "output_type": "display_data"
    }
   ],
   "source": [
    "%%latex\n",
    "$$\n",
    "P(D|T)\n",
    "= P(T|D)P(D)/[P(T|D)P(D) + P(T|\\neg D)P(\\neg D)]\n",
    "$$"
   ]
  },
  {
   "cell_type": "code",
   "execution_count": 39,
   "metadata": {},
   "outputs": [],
   "source": [
    "PD = .0001\n",
    "PTD = .99\n",
    "PTnD = 1 - PTD\n",
    "PnD = 1 - PD"
   ]
  },
  {
   "cell_type": "markdown",
   "metadata": {},
   "source": [
    "### ..."
   ]
  },
  {
   "cell_type": "code",
   "execution_count": 16,
   "metadata": {},
   "outputs": [
    {
     "data": {
      "text/latex": [
       "$$\n",
       "P(T)\n",
       "= P(T, D) + P(T, \\neg D)\n",
       "= P(T|D)P(D) + P(T|\\neg D)P(\\neg D)\n",
       "$$"
      ],
      "text/plain": [
       "<IPython.core.display.Latex object>"
      ]
     },
     "metadata": {},
     "output_type": "display_data"
    }
   ],
   "source": [
    "%%latex\n",
    "$$\n",
    "P(T)\n",
    "= P(T, D) + P(T, \\neg D)\n",
    "= P(T|D)P(D) + P(T|\\neg D)P(\\neg D)\n",
    "$$"
   ]
  },
  {
   "cell_type": "code",
   "execution_count": 18,
   "metadata": {},
   "outputs": [
    {
     "data": {
      "text/plain": [
       "0.01009800000000001"
      ]
     },
     "execution_count": 18,
     "metadata": {},
     "output_type": "execute_result"
    }
   ],
   "source": [
    "PT = PTD*PD + PTnD*PnD\n",
    "PT"
   ]
  },
  {
   "cell_type": "code",
   "execution_count": 40,
   "metadata": {},
   "outputs": [
    {
     "name": "stdout",
     "output_type": "stream",
     "text": [
      "0.98%\n"
     ]
    },
    {
     "data": {
      "text/plain": [
       "0.009803921568627442"
      ]
     },
     "execution_count": 40,
     "metadata": {},
     "output_type": "execute_result"
    }
   ],
   "source": [
    "PDT = (PTD*PD) / (PTD*PD + PTnD*PnD)\n",
    "print(f\"{(PDT*100):.2f}%\")\n",
    "PDT"
   ]
  },
  {
   "cell_type": "markdown",
   "metadata": {},
   "source": [
    "양성 반응을 보인 사람 중 병에 걸렸을 확률은 1%도 안된다   \n",
    "(NOTE: random people)"
   ]
  },
  {
   "cell_type": "markdown",
   "metadata": {},
   "source": [
    "의사는 대략 2라고 할 것이다 ?"
   ]
  },
  {
   "cell_type": "markdown",
   "metadata": {},
   "source": [
    "전체: 1_000_000(1 million)    \n",
    "* 병이 있을 것: 100\n",
    "  + 양성: 99\n",
    "* 병이 없을 것: 999_900\n",
    "  + 양성: 9_999\n",
    "  \n",
    "양성반응 중 병에 걸린 사람 99/(99+9_999)"
   ]
  },
  {
   "cell_type": "code",
   "execution_count": 20,
   "metadata": {},
   "outputs": [
    {
     "data": {
      "text/plain": [
       "0.00980392156862745"
      ]
     },
     "execution_count": 20,
     "metadata": {},
     "output_type": "execute_result"
    }
   ],
   "source": [
    "99/(99+9999)"
   ]
  },
  {
   "cell_type": "markdown",
   "metadata": {},
   "source": [
    "## Random Variable"
   ]
  },
  {
   "cell_type": "markdown",
   "metadata": {},
   "source": [
    "확률 분포(probability distribution)와 관계 있는 변수   "
   ]
  },
  {
   "cell_type": "markdown",
   "metadata": {},
   "source": [
    "동전:\n",
    "* 앞면 - 1\n",
    "* 뒷면 - 0\n",
    "\n",
    "`range(10)`에서 나온 값"
   ]
  },
  {
   "cell_type": "markdown",
   "metadata": {},
   "source": [
    "각 분포는 변수 값이 나올(realizes) 확률을 의미합니다"
   ]
  },
  {
   "cell_type": "markdown",
   "metadata": {},
   "source": [
    "동전:\n",
    "* 앞면 - 0.5\n",
    "* 뒷면 - 0.5\n",
    "\n",
    "`range(10)`; 각각 0.1"
   ]
  },
  {
   "cell_type": "markdown",
   "metadata": {},
   "source": [
    "확률 변수의 기대 값(*expected value*); 확률 가중평균 값"
   ]
  },
  {
   "cell_type": "markdown",
   "metadata": {},
   "source": [
    "동전 0.5   \n",
    "`range(10)`; 4.5"
   ]
  },
  {
   "cell_type": "markdown",
   "metadata": {},
   "source": [
    "조건부 확률에도 적용할 수 있습니다   \n",
    "\n",
    "두 아이의 성별 가정:  \n",
    "*X*; 딸의 수\n",
    "* 0 - 1/4\n",
    "* 1 - 1/2\n",
    "* 2 - 1/4\n",
    "\n",
    "*Y*; 최소 딸이 한 명일 때, 전체 딸의 수\n",
    "* 1 - 2/3\n",
    "* 2 - 1/3\n",
    "\n",
    "*Z*; 첫째가 딸일 때, 전체 딸의 수\n",
    "* 1 - 1/2\n",
    "* 2 - 1/2"
   ]
  },
  {
   "cell_type": "markdown",
   "metadata": {},
   "source": [
    "## Continuous Distributions"
   ]
  },
  {
   "cell_type": "markdown",
   "metadata": {},
   "source": [
    "연속적 결과에 대한 확률, 연속 분포 "
   ]
  },
  {
   "cell_type": "markdown",
   "metadata": {},
   "source": [
    "실수 결과 값만을 사용(*실생활에선 아닐 수도 있다*)"
   ]
  },
  {
   "cell_type": "code",
   "execution_count": 2,
   "metadata": {},
   "outputs": [],
   "source": [
    "def uniform_pdf(x):\n",
    "    return 1 if x >= 0 and x < 1 else 0"
   ]
  },
  {
   "cell_type": "code",
   "execution_count": 11,
   "metadata": {},
   "outputs": [
    {
     "data": {
      "image/png": "[encoded data removed]",
      "text/plain": [
       "<Figure size 432x288 with 1 Axes>"
      ]
     },
     "metadata": {},
     "output_type": "display_data"
    }
   ],
   "source": [
    "from matplotlib import pyplot as plt\n",
    "\n",
    "xs = [x / 100.0 for x in range(-100, 200)]\n",
    "plt.plot(xs, [uniform_pdf(x) for x in xs], '-')\n",
    "plt.axis([-1, 2, 0, 1.5])\n",
    "plt.title(\"The uniform pdf\")\n",
    "plt.show()"
   ]
  },
  {
   "cell_type": "markdown",
   "metadata": {},
   "source": [
    "균등분포(*uniform distribution*); 0~1 같은 비중(*equal weight*)"
   ]
  },
  {
   "cell_type": "markdown",
   "metadata": {},
   "source": [
    "pdf(*probability density function*, 확률밀도함수)   \n",
    "**적분 값 == 확률**"
   ]
  },
  {
   "cell_type": "code",
   "execution_count": 22,
   "metadata": {},
   "outputs": [],
   "source": [
    "def uniform_cdf(x):\n",
    "    \"returns the probability that a uniforn randon variable is <= x\"\n",
    "    if x < 0:   return 0 # uniform random is never less than 0\n",
    "    elif x < 1: return x # e.g. P(X <= 0.4) = 0.4\n",
    "    else:       return 1 # uniform random is always less than 1"
   ]
  },
  {
   "cell_type": "code",
   "execution_count": 24,
   "metadata": {},
   "outputs": [
    {
     "data": {
      "image/png": "[encoded data removed]",
      "text/plain": [
       "<Figure size 432x288 with 1 Axes>"
      ]
     },
     "metadata": {},
     "output_type": "display_data"
    }
   ],
   "source": [
    "xs = [x / 10.0 for x in range(-10, 20)]\n",
    "plt.plot(xs, [uniform_cdf(x) for x in xs], '-')\n",
    "plt.axis([-1, 2, -0.75, 1.75])\n",
    "plt.title(\"The uniform cdf\")\n",
    "plt.show()"
   ]
  },
  {
   "cell_type": "markdown",
   "metadata": {},
   "source": [
    "## The Normal Distribution"
   ]
  },
  {
   "cell_type": "markdown",
   "metadata": {},
   "source": [
    "분포왕, 종모양\n",
    "\n",
    "모양을 결정하는 두 가지 인자; 평균과 표준편차:\n",
    "\n",
    "- 평균(µ) - 중심의 위치\n",
    "- 표준편차(σ) - 너비(클수록 넓고 작을수록 좁다)\n"
   ]
  },
  {
   "cell_type": "markdown",
   "metadata": {},
   "source": [
    "밀도 함수"
   ]
  },
  {
   "cell_type": "code",
   "execution_count": 25,
   "metadata": {},
   "outputs": [
    {
     "data": {
      "text/latex": [
       "$$\n",
       "f(x|\\mu, \\sigma) = {{1}\\over{\\sqrt{2\\pi}\\sigma}}\\exp({-{(x-\\mu)^2}\\over{2\\sigma^2}})\n",
       "$$"
      ],
      "text/plain": [
       "<IPython.core.display.Latex object>"
      ]
     },
     "metadata": {},
     "output_type": "display_data"
    }
   ],
   "source": [
    "%%latex\n",
    "$$\n",
    "f(x|\\mu, \\sigma) = {{1}\\over{\\sqrt{2\\pi}\\sigma}}\\exp({-{(x-\\mu)^2}\\over{2\\sigma^2}})\n",
    "$$"
   ]
  },
  {
   "cell_type": "code",
   "execution_count": 22,
   "metadata": {},
   "outputs": [],
   "source": [
    "import math\n",
    "\n",
    "def normal_pdf(x, mu=0, sigma=1):\n",
    "    sqrt_two_pi = math.sqrt(2 * math.pi)\n",
    "    return (math.exp(-(x-mu) ** 2 / 2 / sigma ** 2) / (sqrt_two_pi * sigma))"
   ]
  },
  {
   "cell_type": "code",
   "execution_count": 23,
   "metadata": {},
   "outputs": [
    {
     "data": {
      "image/png": "[encoded data removed]",
      "text/plain": [
       "<Figure size 432x288 with 1 Axes>"
      ]
     },
     "metadata": {},
     "output_type": "display_data"
    }
   ],
   "source": [
    "xs = [x / 10.0 for x in range(-50, 50)]\n",
    "plt.plot(xs, [normal_pdf(x, sigma=1) for x in xs], '-', label='mu=0,sigma=1')\n",
    "plt.plot(xs, [normal_pdf(x, sigma=2) for x in xs], '--', label='mu=0,sigma=2')\n",
    "plt.plot(xs, [normal_pdf(x, sigma=0.5) for x in xs], ':', label='mu=0,sigma=0.5')\n",
    "plt.plot(xs, [normal_pdf(x, mu=-1) for x in xs], '-.', label='mu=-1,sigma=1')\n",
    "plt.legend()\n",
    "plt.title(\"Various Normal pdfs\")\n",
    "plt.show()"
   ]
  },
  {
   "cell_type": "markdown",
   "metadata": {},
   "source": [
    "표준정규분포(*standard normal distribution*); µ=0, σ=1"
   ]
  },
  {
   "cell_type": "code",
   "execution_count": 24,
   "metadata": {},
   "outputs": [
    {
     "data": {
      "text/latex": [
       "$$\n",
       "X = \\sigma Z + \\mu\n",
       "$$"
      ],
      "text/plain": [
       "<IPython.core.display.Latex object>"
      ]
     },
     "metadata": {},
     "output_type": "display_data"
    }
   ],
   "source": [
    "%%latex\n",
    "$$\n",
    "X = \\sigma Z + \\mu\n",
    "$$"
   ]
  },
  {
   "cell_type": "markdown",
   "metadata": {},
   "source": [
    "*X*; 평균 - µ, 표준편차 - σ 정규분포 확률변수   \n",
    "*Z*; 표준정규분포 확률변수"
   ]
  },
  {
   "cell_type": "code",
   "execution_count": 25,
   "metadata": {},
   "outputs": [
    {
     "data": {
      "text/latex": [
       "$$\n",
       "Z = (X-\\mu)/\\sigma\n",
       "$$"
      ],
      "text/plain": [
       "<IPython.core.display.Latex object>"
      ]
     },
     "metadata": {},
     "output_type": "display_data"
    }
   ],
   "source": [
    "%%latex\n",
    "$$\n",
    "Z = (X-\\mu)/\\sigma\n",
    "$$"
   ]
  },
  {
   "cell_type": "markdown",
   "metadata": {},
   "source": [
    "정규분포의 누적분포함수(cdf); 구현 어렵지만 (비[초등함수](https://ko.wikipedia.org/wiki/%EC%B4%88%EB%93%B1%ED%95%A8%EC%88%98)) [오차함수](https://ko.wikipedia.org/wiki/%EC%98%A4%EC%B0%A8_%ED%95%A8%EC%88%98)로 쉽게 구할 수 있습니다\n",
    "(`math.erf`)   \n",
    "\n"
   ]
  },
  {
   "cell_type": "code",
   "execution_count": 26,
   "metadata": {},
   "outputs": [],
   "source": [
    "def normal_cdf(x, mu=0, sigma=1):\n",
    "    return (1 + math.erf((x - mu) / math.sqrt(2) / sigma)) / 2"
   ]
  },
  {
   "cell_type": "code",
   "execution_count": 27,
   "metadata": {},
   "outputs": [
    {
     "data": {
      "text/latex": [
       "$$\n",
       "\\DeclareMathOperator\\erf{erf}\n",
       "\n",
       "\\Phi(x)\n",
       "= {1\\over2}\\big[1 + \\erf\\big({{(x - \\mu)}\\over{\\sqrt2 \\sigma}}\\big)\\big]\n",
       "$$"
      ],
      "text/plain": [
       "<IPython.core.display.Latex object>"
      ]
     },
     "metadata": {},
     "output_type": "display_data"
    }
   ],
   "source": [
    "%%latex\n",
    "$$\n",
    "\\DeclareMathOperator\\erf{erf}\n",
    "\n",
    "\\Phi(x)\n",
    "= {1\\over2}\\big[1 + \\erf\\big({{(x - \\mu)}\\over{\\sqrt2 \\sigma}}\\big)\\big]\n",
    "$$"
   ]
  },
  {
   "cell_type": "code",
   "execution_count": 28,
   "metadata": {},
   "outputs": [
    {
     "data": {
      "image/png": "[encoded data removed]",
      "text/plain": [
       "<Figure size 432x288 with 1 Axes>"
      ]
     },
     "metadata": {},
     "output_type": "display_data"
    }
   ],
   "source": [
    "xs = [x / 10.0 for x in range(-50, 50)]\n",
    "plt.plot(xs, [normal_cdf(x, sigma=1) for x in xs], '-', label='mu=0,sigma=1')\n",
    "plt.plot(xs, [normal_cdf(x, sigma=2) for x in xs], '--', label='mu=0,sigma=2')\n",
    "plt.plot(xs, [normal_cdf(x, sigma=0.5) for x in xs], ':', label='mu=0,sigma=0.5')\n",
    "plt.plot(xs, [normal_cdf(x, mu=-1) for x in xs], '-.', label='mu=-1,sigma=1')\n",
    "plt.legend()\n",
    "plt.axis([-6, 6, 0, 1])\n",
    "plt.title(\"Various Normal cdfs\")\n",
    "plt.show()"
   ]
  },
  {
   "cell_type": "markdown",
   "metadata": {},
   "source": [
    "특정 확률의 확률변수를 구하기 위해 `normal_cdf`의 역함수를 구해야한다.   \n",
    "역함수를 구하는건 어렵지만, `normal_cdf` 연속 증가임(정렬되어 있다) - 이진 탐색을 사용한다.   "
   ]
  },
  {
   "cell_type": "code",
   "execution_count": 41,
   "metadata": {},
   "outputs": [],
   "source": [
    "def inverse_normal_cdf(p, mu=0, sigma=1, tolerance=0.00001):\n",
    "    \"\"\"find approximate inverse using binary search\"\"\"\n",
    "    \n",
    "    # if not standard, compute standard and rescale\n",
    "    if mu != 0 or sigma != 1:\n",
    "        return mu + sigma * inverse_normal_cdf(p, tolerance=tolerance)\n",
    "    \n",
    "    low_z, low_p = -10.0, 0         # normal_cdf(-10) is (very close to) 0\n",
    "    hi_z, hi_p   =  10.0, 1         # normal_cdf(10) is (very close to) 1\n",
    "    while hi_z - low_z > tolerance:\n",
    "        mid_z = (low_z + hi_z) / 2  # consider the midpoint\n",
    "        mid_p = normal_cdf(mid_z)   # and the cdf's value there\n",
    "        if mid_p < p:\n",
    "            # midpoint is still too slow, search above it\n",
    "            low_z, low_p = mid_z, mid_p\n",
    "        elif mid_p > p:\n",
    "            # midpoint is still too high, search below it\n",
    "            hi_z, hi_p = mid_z, mid_p\n",
    "        else:\n",
    "            break\n",
    "            \n",
    "    return mid_z"
   ]
  },
  {
   "cell_type": "markdown",
   "metadata": {},
   "source": [
    "## The Central Limit Theroem"
   ]
  },
  {
   "cell_type": "markdown",
   "metadata": {},
   "source": [
    "정규분포를 유용한 이유   \n",
    "(동일한 분포에 대한 독립적인 확률변수의 평균)확률변수가 대략적으로 정규분포를 따른다(approximate).    \n",
    "> a random variable defined as the average of a large number of independent and identically distributed random variables is itself approximately normally distributed.\n",
    "\n",
    "**이항분포(이항확률변수)는 정규분포로 근사(approximate)한다.**"
   ]
  },
  {
   "cell_type": "markdown",
   "metadata": {},
   "source": [
    "확률변수; $x_1, ..., x_n$, 평균 - $\\mu$, 표준편차 - $\\sigma$   \n",
    "그리고 $n$이 충분히 크다면"
   ]
  },
  {
   "cell_type": "code",
   "execution_count": 30,
   "metadata": {},
   "outputs": [
    {
     "data": {
      "text/latex": [
       "$$\n",
       "{1\\over n}(x_1 + ... + x_n)\n",
       "$$"
      ],
      "text/plain": [
       "<IPython.core.display.Latex object>"
      ]
     },
     "metadata": {},
     "output_type": "display_data"
    }
   ],
   "source": [
    "%%latex\n",
    "$$\n",
    "{1\\over n}(x_1 + ... + x_n)\n",
    "$$"
   ]
  },
  {
   "cell_type": "markdown",
   "metadata": {},
   "source": [
    "평균 $\\mu$, 표준편차 $\\sigma/\\sqrt n$ 인 정규분포와 *비슷*"
   ]
  },
  {
   "cell_type": "code",
   "execution_count": 31,
   "metadata": {},
   "outputs": [
    {
     "data": {
      "text/latex": [
       "$$\n",
       "(x_1 + ... + x_n)-\\mu n\\over\\sigma\\sqrt n\n",
       "$$"
      ],
      "text/plain": [
       "<IPython.core.display.Latex object>"
      ]
     },
     "metadata": {},
     "output_type": "display_data"
    }
   ],
   "source": [
    "%%latex\n",
    "$$\n",
    "(x_1 + ... + x_n)-\\mu n\\over\\sigma\\sqrt n\n",
    "$$"
   ]
  },
  {
   "cell_type": "markdown",
   "metadata": {},
   "source": [
    "평균 0, 표준편차 1 인 정규분포와 *비슷*"
   ]
  },
  {
   "cell_type": "markdown",
   "metadata": {},
   "source": [
    "이항 확률변수(*binomial random variable*)   \n",
    "두 개의 인자; $n$과 $p$    \n",
    "Binomial(n, p) == n개의 독립적인 [Bernoulli(p)](https://ko.wikipedia.org/wiki/%EB%B2%A0%EB%A5%B4%EB%88%84%EC%9D%B4_%EC%8B%9C%ED%96%89)의 합"
   ]
  },
  {
   "cell_type": "markdown",
   "metadata": {},
   "source": [
    "베르누이 확률변수(Bermoulli random variable):\n",
    "* $p$ - 1\n",
    "* $1-p$ - 0"
   ]
  },
  {
   "cell_type": "code",
   "execution_count": 32,
   "metadata": {},
   "outputs": [],
   "source": [
    "def bernoulli_trial(p):\n",
    "    return 1 if random.random() < p else 0\n",
    "\n",
    "def binomial(n, p):\n",
    "    return sum(bernoulli_trial(p) for _ in range(n))"
   ]
  },
  {
   "cell_type": "markdown",
   "metadata": {},
   "source": [
    "Bernoulli(p); 평균 $p$, 표준편차 $\\sqrt{p(1-p)}$"
   ]
  },
  {
   "cell_type": "markdown",
   "metadata": {},
   "source": [
    "중심극한정리에 따르면; $n$이 적당히 크다면   \n",
    "Binomial(n, p); 평균 $np$, 표준편차 $\\sqrt{np(1-p)}$"
   ]
  },
  {
   "cell_type": "code",
   "execution_count": 33,
   "metadata": {},
   "outputs": [],
   "source": [
    "from collections import Counter\n",
    "\n",
    "def make_hist(p, n, num_points):\n",
    "    data = [binomial(n, p) for _ in range(num_points)]\n",
    "    \n",
    "    # use a bar chart to show the actial bionomial samples\n",
    "    histogram = Counter(data)\n",
    "    plt.bar([x for x in histogram.keys()],\n",
    "            [v / num_points for v in histogram.values()],\n",
    "            0.8,\n",
    "            color='0.75')\n",
    "    \n",
    "    mu = p * n\n",
    "    sigma = math.sqrt(n * p * (1 - p))\n",
    "    \n",
    "    # use a line chart to show the normal approximation\n",
    "    xs = range(min(data), max(data) + 1)\n",
    "    ys = [normal_cdf(i + 0.5, mu, sigma) - normal_cdf(i - 0.5, mu, sigma)\\\n",
    "          for i in xs]\n",
    "    plt.plot(xs, ys)\n",
    "    plt.title(\"Binomial Distribution vs. Normal Approximation\")\n",
    "    plt.show()"
   ]
  },
  {
   "cell_type": "code",
   "execution_count": 35,
   "metadata": {},
   "outputs": [
    {
     "data": {
      "image/png": "[encoded data removed]",
      "text/plain": [
       "<Figure size 432x288 with 1 Axes>"
      ]
     },
     "metadata": {},
     "output_type": "display_data"
    }
   ],
   "source": [
    "make_hist(0.75, 100, 10000)"
   ]
  },
  {
   "cell_type": "markdown",
   "metadata": {},
   "source": [
    "동전을 100번 던져, 60번 이상이 앞면 나오는 확률"
   ]
  },
  {
   "cell_type": "code",
   "execution_count": 36,
   "metadata": {},
   "outputs": [
    {
     "data": {
      "image/png": "[encoded data removed]",
      "text/plain": [
       "<Figure size 432x288 with 1 Axes>"
      ]
     },
     "metadata": {},
     "output_type": "display_data"
    }
   ],
   "source": [
    "make_hist(0.5, 100, 10000)"
   ]
  },
  {
   "cell_type": "code",
   "execution_count": null,
   "metadata": {},
   "outputs": [],
   "source": []
  }
 ],
 "metadata": {
  "kernelspec": {
   "display_name": "Python 3",
   "language": "python",
   "name": "python3"
  },
  "language_info": {
   "codemirror_mode": {
    "name": "ipython",
    "version": 3
   },
   "file_extension": ".py",
   "mimetype": "text/x-python",
   "name": "python",
   "nbconvert_exporter": "python",
   "pygments_lexer": "ipython3",
   "version": "3.6.5"
  }
 },
 "nbformat": 4,
 "nbformat_minor": 2
}
