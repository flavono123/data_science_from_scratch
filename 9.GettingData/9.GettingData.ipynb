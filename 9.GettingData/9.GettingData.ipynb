{
 "cells": [
  {
   "cell_type": "code",
   "execution_count": 2,
   "metadata": {},
   "outputs": [
    {
     "name": "stdout",
     "output_type": "stream",
     "text": [
      "30711\r\n"
     ]
    }
   ],
   "source": [
    "!cat bible.txt | ./egrep.py \"[0-9]\"| ./line_count.py"
   ]
  },
  {
   "cell_type": "code",
   "execution_count": 3,
   "metadata": {},
   "outputs": [
    {
     "name": "stdout",
     "output_type": "stream",
     "text": [
      "64183\tthe\r\n",
      "51379\tand\r\n",
      "34746\tof\r\n",
      "13643\tto\r\n",
      "12799\tthat\r\n",
      "12559\tin\r\n",
      "10263\the\r\n",
      "9840\tshall\r\n",
      "8987\tunto\r\n",
      "8835\tfor\r\n"
     ]
    }
   ],
   "source": [
    "!cat bible.txt | ./most_common_words.py 10"
   ]
  },
  {
   "cell_type": "code",
   "execution_count": 6,
   "metadata": {},
   "outputs": [
    {
     "name": "stdout",
     "output_type": "stream",
     "text": [
      "6/20/2014 AAPL 90.91\n",
      "6/20/2014 MSFT 41.68\n",
      "6/20/2014 FB 64.5\n",
      "6/19/2014 AAPL 91.86\n",
      "6/19/2014 MSFT 41.51\n",
      "6/19/2014 FB 64.34\n"
     ]
    }
   ],
   "source": [
    "import csv\n",
    "\n",
    "with open('tab_delimited_stock_prices.txt', 'r') as f:\n",
    "    reader = csv.reader(f, delimiter='\\t')\n",
    "    for row in reader:\n",
    "        date = row[0]\n",
    "        symbol = row[1]\n",
    "        closing_price = float(row[2])\n",
    "        print(date, symbol, closing_price)"
   ]
  },
  {
   "cell_type": "code",
   "execution_count": 8,
   "metadata": {},
   "outputs": [
    {
     "name": "stdout",
     "output_type": "stream",
     "text": [
      "6/20/2014 AAPL 90.91\n",
      "6/20/2014 MSFT 41.68\n",
      "6/20/2014 FB 64.5\n"
     ]
    }
   ],
   "source": [
    "with open('colon_delimited_stock_prices.txt', 'r') as f:\n",
    "    reader = csv.DictReader(f, delimiter=':')\n",
    "    for row in reader:\n",
    "        date = row['date']\n",
    "        symbol = row['symbol']\n",
    "        closing_price = float(row['closing_price'])\n",
    "        print(date, symbol, closing_price)"
   ]
  },
  {
   "cell_type": "code",
   "execution_count": 10,
   "metadata": {},
   "outputs": [],
   "source": [
    "today_prices = {'AAPL': 90.91, 'MSFT': 41.68, 'FB': 64.5}\n",
    "\n",
    "with open('comma_delimited_stock_prices.txt', 'w') as f:\n",
    "    writer = csv.writer(f, delimiter=',')\n",
    "    for stock, price in today_prices.items():\n",
    "        writer.writerow([stock, price])"
   ]
  },
  {
   "cell_type": "code",
   "execution_count": 11,
   "metadata": {},
   "outputs": [
    {
     "name": "stdout",
     "output_type": "stream",
     "text": [
      "AAPL,90.91\r",
      "\r\n",
      "MSFT,41.68\r",
      "\r\n",
      "FB,64.5\r",
      "\r\n"
     ]
    }
   ],
   "source": [
    "!cat comma_delimited_stock_prices.txt"
   ]
  },
  {
   "cell_type": "code",
   "execution_count": 29,
   "metadata": {},
   "outputs": [],
   "source": [
    "from bs4 import BeautifulSoup\n",
    "import requests\n",
    "html = requests.get('http://www.example.com/').text\n",
    "soup = BeautifulSoup(html, 'html5lib')"
   ]
  },
  {
   "cell_type": "code",
   "execution_count": 30,
   "metadata": {},
   "outputs": [
    {
     "data": {
      "text/plain": [
       "True"
      ]
     },
     "execution_count": 30,
     "metadata": {},
     "output_type": "execute_result"
    }
   ],
   "source": [
    "first_paragraph = soup.find('p')\n",
    "first_paragraph == soup.p"
   ]
  },
  {
   "cell_type": "code",
   "execution_count": 31,
   "metadata": {},
   "outputs": [
    {
     "data": {
      "text/plain": [
       "['This',\n",
       " 'domain',\n",
       " 'is',\n",
       " 'established',\n",
       " 'to',\n",
       " 'be',\n",
       " 'used',\n",
       " 'for',\n",
       " 'illustrative',\n",
       " 'examples',\n",
       " 'in',\n",
       " 'documents.',\n",
       " 'You',\n",
       " 'may',\n",
       " 'use',\n",
       " 'this',\n",
       " 'domain',\n",
       " 'in',\n",
       " 'examples',\n",
       " 'without',\n",
       " 'prior',\n",
       " 'coordination',\n",
       " 'or',\n",
       " 'asking',\n",
       " 'for',\n",
       " 'permission.']"
      ]
     },
     "execution_count": 31,
     "metadata": {},
     "output_type": "execute_result"
    }
   ],
   "source": [
    "first_paragraph_text = first_paragraph.text\n",
    "first_paragraph_words = first_paragraph_text.split()\n",
    "first_paragraph_words"
   ]
  },
  {
   "cell_type": "code",
   "execution_count": 32,
   "metadata": {},
   "outputs": [
    {
     "data": {
      "text/plain": [
       "[]"
      ]
     },
     "execution_count": 32,
     "metadata": {},
     "output_type": "execute_result"
    }
   ],
   "source": [
    "all_paragraphs = soup.find_all('p')\n",
    "all_paragraphs == soup('p')\n",
    "paragraphs_with_ids = [p for p in all_paragraphs if p.get('id')]\n",
    "paragraphs_with_ids"
   ]
  },
  {
   "cell_type": "code",
   "execution_count": 34,
   "metadata": {},
   "outputs": [
    {
     "data": {
      "text/plain": [
       "[]"
      ]
     },
     "execution_count": 34,
     "metadata": {},
     "output_type": "execute_result"
    }
   ],
   "source": [
    "important_paragraphs = soup('p', {'class': 'important'})\n",
    "important_paragraphs2 = soup('p', 'important')\n",
    "important_paragraphs3 = [p for p in soup('p')\n",
    "                         if 'important' in p.get('class', [])]\n",
    "important_paragraphs3"
   ]
  },
  {
   "cell_type": "code",
   "execution_count": 36,
   "metadata": {},
   "outputs": [
    {
     "data": {
      "text/plain": [
       "[]"
      ]
     },
     "execution_count": 36,
     "metadata": {},
     "output_type": "execute_result"
    }
   ],
   "source": [
    "# warning, will return the same span multiple times\n",
    "# if it sits inside multiple divs\n",
    "# be more clever if that's the case\n",
    "spans_inside_divs = [span\n",
    "                     for div in soup('div')   # for each <div> on the page\n",
    "                     for span in div('span')] # find each <span> inside it  \n",
    "spans_inside_divs"
   ]
  },
  {
   "cell_type": "code",
   "execution_count": 96,
   "metadata": {},
   "outputs": [],
   "source": [
    "# url has been changed\n",
    "# what the semi-colon in the query string?\n",
    "url = 'https://ssearch.oreilly.com/' + \\\n",
    "      '?i=1;page=1;q=data&act=pg_1'\n",
    "soup = BeautifulSoup(requests.get(url).text, 'html5lib')"
   ]
  },
  {
   "cell_type": "code",
   "execution_count": 97,
   "metadata": {},
   "outputs": [
    {
     "name": "stdout",
     "output_type": "stream",
     "text": [
      "16\n"
     ]
    }
   ],
   "source": [
    "articles = soup('article', 'result')\n",
    "print(len(articles))"
   ]
  },
  {
   "cell_type": "code",
   "execution_count": 92,
   "metadata": {},
   "outputs": [
    {
     "name": "stdout",
     "output_type": "stream",
     "text": [
      "14\n"
     ]
    }
   ],
   "source": [
    "# no distinguishable element exist for a video\n",
    "# detect the article is a book, not just an article, instead\n",
    "def is_book(article): \n",
    "    return True if 'product-result' in article.get('class') else False\n",
    "\n",
    "print(len([article for article in articles if is_book(article)]))"
   ]
  },
  {
   "cell_type": "code",
   "execution_count": 114,
   "metadata": {},
   "outputs": [
    {
     "data": {
      "text/plain": [
       "'March 2013'"
      ]
     },
     "execution_count": 114,
     "metadata": {},
     "output_type": "execute_result"
    }
   ],
   "source": [
    "import re\n",
    "articles[0].find('p', 'title').a.text.strip()\n",
    "[author.strip() for author in re.sub(r'^By', '', articles[0].find('p', 'note').text).split(',')]\n",
    "re.sub('^Release Date:', '', articles[0].find('p', 'date2').text).strip()"
   ]
  },
  {
   "cell_type": "code",
   "execution_count": 117,
   "metadata": {},
   "outputs": [],
   "source": [
    "def book_info(article):\n",
    "    title = article.find('p', 'title').a.text.strip()\n",
    "    by_author = article.find('p', 'note').text\n",
    "    authors = [author.strip() for author in re.sub(r'^By', '', by_author).split(',')]\n",
    "    date = re.sub('^Release Date:', '', article.find('p', 'date2').text).strip()\n",
    "    \n",
    "    return {\n",
    "        'title': title,\n",
    "        'authors': authors,\n",
    "        'date': date\n",
    "    }"
   ]
  },
  {
   "cell_type": "code",
   "execution_count": 129,
   "metadata": {},
   "outputs": [
    {
     "ename": "ConnectionError",
     "evalue": "HTTPSConnectionPool(host='ssearch.oreilly.com', port=443): Max retries exceeded with url: /?i=1;page=%7Bpage_num%7D;q=data&act=pg_%7Bpage_num%7D (Caused by NewConnectionError('<urllib3.connection.VerifiedHTTPSConnection object at 0x117cc0c88>: Failed to establish a new connection: [Errno 8] nodename nor servname provided, or not known',))",
     "output_type": "error",
     "traceback": [
      "\u001b[0;31m---------------------------------------------------------------------------\u001b[0m",
      "\u001b[0;31mgaierror\u001b[0m                                  Traceback (most recent call last)",
      "\u001b[0;32m/Library/Frameworks/Python.framework/Versions/3.6/lib/python3.6/site-packages/urllib3/connection.py\u001b[0m in \u001b[0;36m_new_conn\u001b[0;34m(self)\u001b[0m\n\u001b[1;32m    170\u001b[0m             conn = connection.create_connection(\n\u001b[0;32m--> 171\u001b[0;31m                 (self._dns_host, self.port), self.timeout, **extra_kw)\n\u001b[0m\u001b[1;32m    172\u001b[0m \u001b[0;34m\u001b[0m\u001b[0m\n",
      "\u001b[0;32m/Library/Frameworks/Python.framework/Versions/3.6/lib/python3.6/site-packages/urllib3/util/connection.py\u001b[0m in \u001b[0;36mcreate_connection\u001b[0;34m(address, timeout, source_address, socket_options)\u001b[0m\n\u001b[1;32m     55\u001b[0m \u001b[0;34m\u001b[0m\u001b[0m\n\u001b[0;32m---> 56\u001b[0;31m     \u001b[0;32mfor\u001b[0m \u001b[0mres\u001b[0m \u001b[0;32min\u001b[0m \u001b[0msocket\u001b[0m\u001b[0;34m.\u001b[0m\u001b[0mgetaddrinfo\u001b[0m\u001b[0;34m(\u001b[0m\u001b[0mhost\u001b[0m\u001b[0;34m,\u001b[0m \u001b[0mport\u001b[0m\u001b[0;34m,\u001b[0m \u001b[0mfamily\u001b[0m\u001b[0;34m,\u001b[0m \u001b[0msocket\u001b[0m\u001b[0;34m.\u001b[0m\u001b[0mSOCK_STREAM\u001b[0m\u001b[0;34m)\u001b[0m\u001b[0;34m:\u001b[0m\u001b[0;34m\u001b[0m\u001b[0m\n\u001b[0m\u001b[1;32m     57\u001b[0m         \u001b[0maf\u001b[0m\u001b[0;34m,\u001b[0m \u001b[0msocktype\u001b[0m\u001b[0;34m,\u001b[0m \u001b[0mproto\u001b[0m\u001b[0;34m,\u001b[0m \u001b[0mcanonname\u001b[0m\u001b[0;34m,\u001b[0m \u001b[0msa\u001b[0m \u001b[0;34m=\u001b[0m \u001b[0mres\u001b[0m\u001b[0;34m\u001b[0m\u001b[0m\n",
      "\u001b[0;32m/Library/Frameworks/Python.framework/Versions/3.6/lib/python3.6/socket.py\u001b[0m in \u001b[0;36mgetaddrinfo\u001b[0;34m(host, port, family, type, proto, flags)\u001b[0m\n\u001b[1;32m    744\u001b[0m     \u001b[0maddrlist\u001b[0m \u001b[0;34m=\u001b[0m \u001b[0;34m[\u001b[0m\u001b[0;34m]\u001b[0m\u001b[0;34m\u001b[0m\u001b[0m\n\u001b[0;32m--> 745\u001b[0;31m     \u001b[0;32mfor\u001b[0m \u001b[0mres\u001b[0m \u001b[0;32min\u001b[0m \u001b[0m_socket\u001b[0m\u001b[0;34m.\u001b[0m\u001b[0mgetaddrinfo\u001b[0m\u001b[0;34m(\u001b[0m\u001b[0mhost\u001b[0m\u001b[0;34m,\u001b[0m \u001b[0mport\u001b[0m\u001b[0;34m,\u001b[0m \u001b[0mfamily\u001b[0m\u001b[0;34m,\u001b[0m \u001b[0mtype\u001b[0m\u001b[0;34m,\u001b[0m \u001b[0mproto\u001b[0m\u001b[0;34m,\u001b[0m \u001b[0mflags\u001b[0m\u001b[0;34m)\u001b[0m\u001b[0;34m:\u001b[0m\u001b[0;34m\u001b[0m\u001b[0m\n\u001b[0m\u001b[1;32m    746\u001b[0m         \u001b[0maf\u001b[0m\u001b[0;34m,\u001b[0m \u001b[0msocktype\u001b[0m\u001b[0;34m,\u001b[0m \u001b[0mproto\u001b[0m\u001b[0;34m,\u001b[0m \u001b[0mcanonname\u001b[0m\u001b[0;34m,\u001b[0m \u001b[0msa\u001b[0m \u001b[0;34m=\u001b[0m \u001b[0mres\u001b[0m\u001b[0;34m\u001b[0m\u001b[0m\n",
      "\u001b[0;31mgaierror\u001b[0m: [Errno 8] nodename nor servname provided, or not known",
      "\nDuring handling of the above exception, another exception occurred:\n",
      "\u001b[0;31mNewConnectionError\u001b[0m                        Traceback (most recent call last)",
      "\u001b[0;32m/Library/Frameworks/Python.framework/Versions/3.6/lib/python3.6/site-packages/urllib3/connectionpool.py\u001b[0m in \u001b[0;36murlopen\u001b[0;34m(self, method, url, body, headers, retries, redirect, assert_same_host, timeout, pool_timeout, release_conn, chunked, body_pos, **response_kw)\u001b[0m\n\u001b[1;32m    599\u001b[0m                                                   \u001b[0mbody\u001b[0m\u001b[0;34m=\u001b[0m\u001b[0mbody\u001b[0m\u001b[0;34m,\u001b[0m \u001b[0mheaders\u001b[0m\u001b[0;34m=\u001b[0m\u001b[0mheaders\u001b[0m\u001b[0;34m,\u001b[0m\u001b[0;34m\u001b[0m\u001b[0m\n\u001b[0;32m--> 600\u001b[0;31m                                                   chunked=chunked)\n\u001b[0m\u001b[1;32m    601\u001b[0m \u001b[0;34m\u001b[0m\u001b[0m\n",
      "\u001b[0;32m/Library/Frameworks/Python.framework/Versions/3.6/lib/python3.6/site-packages/urllib3/connectionpool.py\u001b[0m in \u001b[0;36m_make_request\u001b[0;34m(self, conn, method, url, timeout, chunked, **httplib_request_kw)\u001b[0m\n\u001b[1;32m    342\u001b[0m         \u001b[0;32mtry\u001b[0m\u001b[0;34m:\u001b[0m\u001b[0;34m\u001b[0m\u001b[0m\n\u001b[0;32m--> 343\u001b[0;31m             \u001b[0mself\u001b[0m\u001b[0;34m.\u001b[0m\u001b[0m_validate_conn\u001b[0m\u001b[0;34m(\u001b[0m\u001b[0mconn\u001b[0m\u001b[0;34m)\u001b[0m\u001b[0;34m\u001b[0m\u001b[0m\n\u001b[0m\u001b[1;32m    344\u001b[0m         \u001b[0;32mexcept\u001b[0m \u001b[0;34m(\u001b[0m\u001b[0mSocketTimeout\u001b[0m\u001b[0;34m,\u001b[0m \u001b[0mBaseSSLError\u001b[0m\u001b[0;34m)\u001b[0m \u001b[0;32mas\u001b[0m \u001b[0me\u001b[0m\u001b[0;34m:\u001b[0m\u001b[0;34m\u001b[0m\u001b[0m\n",
      "\u001b[0;32m/Library/Frameworks/Python.framework/Versions/3.6/lib/python3.6/site-packages/urllib3/connectionpool.py\u001b[0m in \u001b[0;36m_validate_conn\u001b[0;34m(self, conn)\u001b[0m\n\u001b[1;32m    848\u001b[0m         \u001b[0;32mif\u001b[0m \u001b[0;32mnot\u001b[0m \u001b[0mgetattr\u001b[0m\u001b[0;34m(\u001b[0m\u001b[0mconn\u001b[0m\u001b[0;34m,\u001b[0m \u001b[0;34m'sock'\u001b[0m\u001b[0;34m,\u001b[0m \u001b[0;32mNone\u001b[0m\u001b[0;34m)\u001b[0m\u001b[0;34m:\u001b[0m  \u001b[0;31m# AppEngine might not have  `.sock`\u001b[0m\u001b[0;34m\u001b[0m\u001b[0m\n\u001b[0;32m--> 849\u001b[0;31m             \u001b[0mconn\u001b[0m\u001b[0;34m.\u001b[0m\u001b[0mconnect\u001b[0m\u001b[0;34m(\u001b[0m\u001b[0;34m)\u001b[0m\u001b[0;34m\u001b[0m\u001b[0m\n\u001b[0m\u001b[1;32m    850\u001b[0m \u001b[0;34m\u001b[0m\u001b[0m\n",
      "\u001b[0;32m/Library/Frameworks/Python.framework/Versions/3.6/lib/python3.6/site-packages/urllib3/connection.py\u001b[0m in \u001b[0;36mconnect\u001b[0;34m(self)\u001b[0m\n\u001b[1;32m    313\u001b[0m         \u001b[0;31m# Add certificate verification\u001b[0m\u001b[0;34m\u001b[0m\u001b[0;34m\u001b[0m\u001b[0m\n\u001b[0;32m--> 314\u001b[0;31m         \u001b[0mconn\u001b[0m \u001b[0;34m=\u001b[0m \u001b[0mself\u001b[0m\u001b[0;34m.\u001b[0m\u001b[0m_new_conn\u001b[0m\u001b[0;34m(\u001b[0m\u001b[0;34m)\u001b[0m\u001b[0;34m\u001b[0m\u001b[0m\n\u001b[0m\u001b[1;32m    315\u001b[0m \u001b[0;34m\u001b[0m\u001b[0m\n",
      "\u001b[0;32m/Library/Frameworks/Python.framework/Versions/3.6/lib/python3.6/site-packages/urllib3/connection.py\u001b[0m in \u001b[0;36m_new_conn\u001b[0;34m(self)\u001b[0m\n\u001b[1;32m    179\u001b[0m             raise NewConnectionError(\n\u001b[0;32m--> 180\u001b[0;31m                 self, \"Failed to establish a new connection: %s\" % e)\n\u001b[0m\u001b[1;32m    181\u001b[0m \u001b[0;34m\u001b[0m\u001b[0m\n",
      "\u001b[0;31mNewConnectionError\u001b[0m: <urllib3.connection.VerifiedHTTPSConnection object at 0x117cc0c88>: Failed to establish a new connection: [Errno 8] nodename nor servname provided, or not known",
      "\nDuring handling of the above exception, another exception occurred:\n",
      "\u001b[0;31mMaxRetryError\u001b[0m                             Traceback (most recent call last)",
      "\u001b[0;32m/Library/Frameworks/Python.framework/Versions/3.6/lib/python3.6/site-packages/requests/adapters.py\u001b[0m in \u001b[0;36msend\u001b[0;34m(self, request, stream, timeout, verify, cert, proxies)\u001b[0m\n\u001b[1;32m    444\u001b[0m                     \u001b[0mretries\u001b[0m\u001b[0;34m=\u001b[0m\u001b[0mself\u001b[0m\u001b[0;34m.\u001b[0m\u001b[0mmax_retries\u001b[0m\u001b[0;34m,\u001b[0m\u001b[0;34m\u001b[0m\u001b[0m\n\u001b[0;32m--> 445\u001b[0;31m                     \u001b[0mtimeout\u001b[0m\u001b[0;34m=\u001b[0m\u001b[0mtimeout\u001b[0m\u001b[0;34m\u001b[0m\u001b[0m\n\u001b[0m\u001b[1;32m    446\u001b[0m                 )\n",
      "\u001b[0;32m/Library/Frameworks/Python.framework/Versions/3.6/lib/python3.6/site-packages/urllib3/connectionpool.py\u001b[0m in \u001b[0;36murlopen\u001b[0;34m(self, method, url, body, headers, retries, redirect, assert_same_host, timeout, pool_timeout, release_conn, chunked, body_pos, **response_kw)\u001b[0m\n\u001b[1;32m    637\u001b[0m             retries = retries.increment(method, url, error=e, _pool=self,\n\u001b[0;32m--> 638\u001b[0;31m                                         _stacktrace=sys.exc_info()[2])\n\u001b[0m\u001b[1;32m    639\u001b[0m             \u001b[0mretries\u001b[0m\u001b[0;34m.\u001b[0m\u001b[0msleep\u001b[0m\u001b[0;34m(\u001b[0m\u001b[0;34m)\u001b[0m\u001b[0;34m\u001b[0m\u001b[0m\n",
      "\u001b[0;32m/Library/Frameworks/Python.framework/Versions/3.6/lib/python3.6/site-packages/urllib3/util/retry.py\u001b[0m in \u001b[0;36mincrement\u001b[0;34m(self, method, url, response, error, _pool, _stacktrace)\u001b[0m\n\u001b[1;32m    397\u001b[0m         \u001b[0;32mif\u001b[0m \u001b[0mnew_retry\u001b[0m\u001b[0;34m.\u001b[0m\u001b[0mis_exhausted\u001b[0m\u001b[0;34m(\u001b[0m\u001b[0;34m)\u001b[0m\u001b[0;34m:\u001b[0m\u001b[0;34m\u001b[0m\u001b[0m\n\u001b[0;32m--> 398\u001b[0;31m             \u001b[0;32mraise\u001b[0m \u001b[0mMaxRetryError\u001b[0m\u001b[0;34m(\u001b[0m\u001b[0m_pool\u001b[0m\u001b[0;34m,\u001b[0m \u001b[0murl\u001b[0m\u001b[0;34m,\u001b[0m \u001b[0merror\u001b[0m \u001b[0;32mor\u001b[0m \u001b[0mResponseError\u001b[0m\u001b[0;34m(\u001b[0m\u001b[0mcause\u001b[0m\u001b[0;34m)\u001b[0m\u001b[0;34m)\u001b[0m\u001b[0;34m\u001b[0m\u001b[0m\n\u001b[0m\u001b[1;32m    399\u001b[0m \u001b[0;34m\u001b[0m\u001b[0m\n",
      "\u001b[0;31mMaxRetryError\u001b[0m: HTTPSConnectionPool(host='ssearch.oreilly.com', port=443): Max retries exceeded with url: /?i=1;page=%7Bpage_num%7D;q=data&act=pg_%7Bpage_num%7D (Caused by NewConnectionError('<urllib3.connection.VerifiedHTTPSConnection object at 0x117cc0c88>: Failed to establish a new connection: [Errno 8] nodename nor servname provided, or not known',))",
      "\nDuring handling of the above exception, another exception occurred:\n",
      "\u001b[0;31mConnectionError\u001b[0m                           Traceback (most recent call last)",
      "\u001b[0;32m<ipython-input-129-978e027dff02>\u001b[0m in \u001b[0;36m<module>\u001b[0;34m()\u001b[0m\n\u001b[1;32m      6\u001b[0m \u001b[0;32mfor\u001b[0m \u001b[0mpage_num\u001b[0m \u001b[0;32min\u001b[0m \u001b[0mrange\u001b[0m\u001b[0;34m(\u001b[0m\u001b[0;36m1\u001b[0m\u001b[0;34m,\u001b[0m \u001b[0mNUM_PAGES\u001b[0m \u001b[0;34m+\u001b[0m \u001b[0;36m1\u001b[0m\u001b[0;34m)\u001b[0m\u001b[0;34m:\u001b[0m\u001b[0;34m\u001b[0m\u001b[0m\n\u001b[1;32m      7\u001b[0m     \u001b[0murl\u001b[0m \u001b[0;34m=\u001b[0m \u001b[0;34mf'https://ssearch.oreilly.com/'\u001b[0m \u001b[0;34m+\u001b[0m           \u001b[0;34m'?i=1;page={page_num};q=data&act=pg_{page_num}'\u001b[0m\u001b[0;34m\u001b[0m\u001b[0m\n\u001b[0;32m----> 8\u001b[0;31m     \u001b[0msoup\u001b[0m \u001b[0;34m=\u001b[0m \u001b[0mBeautifulSoup\u001b[0m\u001b[0;34m(\u001b[0m\u001b[0mrequests\u001b[0m\u001b[0;34m.\u001b[0m\u001b[0mget\u001b[0m\u001b[0;34m(\u001b[0m\u001b[0murl\u001b[0m\u001b[0;34m)\u001b[0m\u001b[0;34m.\u001b[0m\u001b[0mtext\u001b[0m\u001b[0;34m,\u001b[0m \u001b[0;34m'html5lib'\u001b[0m\u001b[0;34m)\u001b[0m\u001b[0;34m\u001b[0m\u001b[0m\n\u001b[0m\u001b[1;32m      9\u001b[0m \u001b[0;34m\u001b[0m\u001b[0m\n\u001b[1;32m     10\u001b[0m     \u001b[0;32mfor\u001b[0m \u001b[0marticle\u001b[0m \u001b[0;32min\u001b[0m \u001b[0msoup\u001b[0m\u001b[0;34m(\u001b[0m\u001b[0;34m'article'\u001b[0m\u001b[0;34m,\u001b[0m \u001b[0;34m'result'\u001b[0m\u001b[0;34m)\u001b[0m\u001b[0;34m:\u001b[0m\u001b[0;34m\u001b[0m\u001b[0m\n",
      "\u001b[0;32m/Library/Frameworks/Python.framework/Versions/3.6/lib/python3.6/site-packages/requests/api.py\u001b[0m in \u001b[0;36mget\u001b[0;34m(url, params, **kwargs)\u001b[0m\n\u001b[1;32m     70\u001b[0m \u001b[0;34m\u001b[0m\u001b[0m\n\u001b[1;32m     71\u001b[0m     \u001b[0mkwargs\u001b[0m\u001b[0;34m.\u001b[0m\u001b[0msetdefault\u001b[0m\u001b[0;34m(\u001b[0m\u001b[0;34m'allow_redirects'\u001b[0m\u001b[0;34m,\u001b[0m \u001b[0;32mTrue\u001b[0m\u001b[0;34m)\u001b[0m\u001b[0;34m\u001b[0m\u001b[0m\n\u001b[0;32m---> 72\u001b[0;31m     \u001b[0;32mreturn\u001b[0m \u001b[0mrequest\u001b[0m\u001b[0;34m(\u001b[0m\u001b[0;34m'get'\u001b[0m\u001b[0;34m,\u001b[0m \u001b[0murl\u001b[0m\u001b[0;34m,\u001b[0m \u001b[0mparams\u001b[0m\u001b[0;34m=\u001b[0m\u001b[0mparams\u001b[0m\u001b[0;34m,\u001b[0m \u001b[0;34m**\u001b[0m\u001b[0mkwargs\u001b[0m\u001b[0;34m)\u001b[0m\u001b[0;34m\u001b[0m\u001b[0m\n\u001b[0m\u001b[1;32m     73\u001b[0m \u001b[0;34m\u001b[0m\u001b[0m\n\u001b[1;32m     74\u001b[0m \u001b[0;34m\u001b[0m\u001b[0m\n",
      "\u001b[0;32m/Library/Frameworks/Python.framework/Versions/3.6/lib/python3.6/site-packages/requests/api.py\u001b[0m in \u001b[0;36mrequest\u001b[0;34m(method, url, **kwargs)\u001b[0m\n\u001b[1;32m     56\u001b[0m     \u001b[0;31m# cases, and look like a memory leak in others.\u001b[0m\u001b[0;34m\u001b[0m\u001b[0;34m\u001b[0m\u001b[0m\n\u001b[1;32m     57\u001b[0m     \u001b[0;32mwith\u001b[0m \u001b[0msessions\u001b[0m\u001b[0;34m.\u001b[0m\u001b[0mSession\u001b[0m\u001b[0;34m(\u001b[0m\u001b[0;34m)\u001b[0m \u001b[0;32mas\u001b[0m \u001b[0msession\u001b[0m\u001b[0;34m:\u001b[0m\u001b[0;34m\u001b[0m\u001b[0m\n\u001b[0;32m---> 58\u001b[0;31m         \u001b[0;32mreturn\u001b[0m \u001b[0msession\u001b[0m\u001b[0;34m.\u001b[0m\u001b[0mrequest\u001b[0m\u001b[0;34m(\u001b[0m\u001b[0mmethod\u001b[0m\u001b[0;34m=\u001b[0m\u001b[0mmethod\u001b[0m\u001b[0;34m,\u001b[0m \u001b[0murl\u001b[0m\u001b[0;34m=\u001b[0m\u001b[0murl\u001b[0m\u001b[0;34m,\u001b[0m \u001b[0;34m**\u001b[0m\u001b[0mkwargs\u001b[0m\u001b[0;34m)\u001b[0m\u001b[0;34m\u001b[0m\u001b[0m\n\u001b[0m\u001b[1;32m     59\u001b[0m \u001b[0;34m\u001b[0m\u001b[0m\n\u001b[1;32m     60\u001b[0m \u001b[0;34m\u001b[0m\u001b[0m\n",
      "\u001b[0;32m/Library/Frameworks/Python.framework/Versions/3.6/lib/python3.6/site-packages/requests/sessions.py\u001b[0m in \u001b[0;36mrequest\u001b[0;34m(self, method, url, params, data, headers, cookies, files, auth, timeout, allow_redirects, proxies, hooks, stream, verify, cert, json)\u001b[0m\n\u001b[1;32m    510\u001b[0m         }\n\u001b[1;32m    511\u001b[0m         \u001b[0msend_kwargs\u001b[0m\u001b[0;34m.\u001b[0m\u001b[0mupdate\u001b[0m\u001b[0;34m(\u001b[0m\u001b[0msettings\u001b[0m\u001b[0;34m)\u001b[0m\u001b[0;34m\u001b[0m\u001b[0m\n\u001b[0;32m--> 512\u001b[0;31m         \u001b[0mresp\u001b[0m \u001b[0;34m=\u001b[0m \u001b[0mself\u001b[0m\u001b[0;34m.\u001b[0m\u001b[0msend\u001b[0m\u001b[0;34m(\u001b[0m\u001b[0mprep\u001b[0m\u001b[0;34m,\u001b[0m \u001b[0;34m**\u001b[0m\u001b[0msend_kwargs\u001b[0m\u001b[0;34m)\u001b[0m\u001b[0;34m\u001b[0m\u001b[0m\n\u001b[0m\u001b[1;32m    513\u001b[0m \u001b[0;34m\u001b[0m\u001b[0m\n\u001b[1;32m    514\u001b[0m         \u001b[0;32mreturn\u001b[0m \u001b[0mresp\u001b[0m\u001b[0;34m\u001b[0m\u001b[0m\n",
      "\u001b[0;32m/Library/Frameworks/Python.framework/Versions/3.6/lib/python3.6/site-packages/requests/sessions.py\u001b[0m in \u001b[0;36msend\u001b[0;34m(self, request, **kwargs)\u001b[0m\n\u001b[1;32m    620\u001b[0m \u001b[0;34m\u001b[0m\u001b[0m\n\u001b[1;32m    621\u001b[0m         \u001b[0;31m# Send the request\u001b[0m\u001b[0;34m\u001b[0m\u001b[0;34m\u001b[0m\u001b[0m\n\u001b[0;32m--> 622\u001b[0;31m         \u001b[0mr\u001b[0m \u001b[0;34m=\u001b[0m \u001b[0madapter\u001b[0m\u001b[0;34m.\u001b[0m\u001b[0msend\u001b[0m\u001b[0;34m(\u001b[0m\u001b[0mrequest\u001b[0m\u001b[0;34m,\u001b[0m \u001b[0;34m**\u001b[0m\u001b[0mkwargs\u001b[0m\u001b[0;34m)\u001b[0m\u001b[0;34m\u001b[0m\u001b[0m\n\u001b[0m\u001b[1;32m    623\u001b[0m \u001b[0;34m\u001b[0m\u001b[0m\n\u001b[1;32m    624\u001b[0m         \u001b[0;31m# Total elapsed time of the request (approximately)\u001b[0m\u001b[0;34m\u001b[0m\u001b[0;34m\u001b[0m\u001b[0m\n",
      "\u001b[0;32m/Library/Frameworks/Python.framework/Versions/3.6/lib/python3.6/site-packages/requests/adapters.py\u001b[0m in \u001b[0;36msend\u001b[0;34m(self, request, stream, timeout, verify, cert, proxies)\u001b[0m\n\u001b[1;32m    511\u001b[0m                 \u001b[0;32mraise\u001b[0m \u001b[0mSSLError\u001b[0m\u001b[0;34m(\u001b[0m\u001b[0me\u001b[0m\u001b[0;34m,\u001b[0m \u001b[0mrequest\u001b[0m\u001b[0;34m=\u001b[0m\u001b[0mrequest\u001b[0m\u001b[0;34m)\u001b[0m\u001b[0;34m\u001b[0m\u001b[0m\n\u001b[1;32m    512\u001b[0m \u001b[0;34m\u001b[0m\u001b[0m\n\u001b[0;32m--> 513\u001b[0;31m             \u001b[0;32mraise\u001b[0m \u001b[0mConnectionError\u001b[0m\u001b[0;34m(\u001b[0m\u001b[0me\u001b[0m\u001b[0;34m,\u001b[0m \u001b[0mrequest\u001b[0m\u001b[0;34m=\u001b[0m\u001b[0mrequest\u001b[0m\u001b[0;34m)\u001b[0m\u001b[0;34m\u001b[0m\u001b[0m\n\u001b[0m\u001b[1;32m    514\u001b[0m \u001b[0;34m\u001b[0m\u001b[0m\n\u001b[1;32m    515\u001b[0m         \u001b[0;32mexcept\u001b[0m \u001b[0mClosedPoolError\u001b[0m \u001b[0;32mas\u001b[0m \u001b[0me\u001b[0m\u001b[0;34m:\u001b[0m\u001b[0;34m\u001b[0m\u001b[0m\n",
      "\u001b[0;31mConnectionError\u001b[0m: HTTPSConnectionPool(host='ssearch.oreilly.com', port=443): Max retries exceeded with url: /?i=1;page=%7Bpage_num%7D;q=data&act=pg_%7Bpage_num%7D (Caused by NewConnectionError('<urllib3.connection.VerifiedHTTPSConnection object at 0x117cc0c88>: Failed to establish a new connection: [Errno 8] nodename nor servname provided, or not known',))"
     ]
    }
   ],
   "source": [
    "from time import sleep\n",
    "\n",
    "books = []\n",
    "NUM_PAGES = 688\n",
    "\n",
    "for page_num in range(1, NUM_PAGES + 1):\n",
    "    url = f'https://ssearch.oreilly.com/' + \\\n",
    "          '?i=1;page={page_num};q=data&act=pg_{page_num}'\n",
    "    soup = BeautifulSoup(requests.get(url).text, 'html5lib')\n",
    "    \n",
    "    for article in soup('article', 'result'):\n",
    "        if is_book(article):\n",
    "            books.append(book_info(article))\n",
    "            \n",
    "    sleep(30)"
   ]
  },
  {
   "cell_type": "code",
   "execution_count": 120,
   "metadata": {},
   "outputs": [
    {
     "data": {
      "text/plain": [
       "[{'authors': ['Scott Murray'],\n",
       "  'date': 'March 2013',\n",
       "  'title': 'Interactive Data Visualization for the Web'},\n",
       " {'authors': ['Federico Castanedo'],\n",
       "  'date': 'November 06, 2015',\n",
       "  'title': 'Data Preparation in the Big Data Era'},\n",
       " {'authors': ['Hilary Mason', 'DJ Patil'],\n",
       "  'date': 'January 05, 2015',\n",
       "  'title': 'Data Driven: Creating a Data Culture'},\n",
       " {'authors': ['Aman Naimat'],\n",
       "  'date': 'July 19, 2016',\n",
       "  'title': 'The Big Data Market'},\n",
       " {'authors': ['Daniel Cowles'],\n",
       "  'date': 'April 16, 2015',\n",
       "  'title': 'Oil, Gas, and Data'},\n",
       " {'authors': ['Jerry Overton'],\n",
       "  'date': 'March 15, 2016',\n",
       "  'title': 'Going Pro in Data Science'},\n",
       " {'authors': ['Mike Barlow'],\n",
       "  'date': 'August 19, 2015',\n",
       "  'title': 'Data and Social Good'},\n",
       " {'authors': ['Julie Steele'],\n",
       "  'date': 'March 13, 2015',\n",
       "  'title': 'Understanding the Chief Data Officer'},\n",
       " {'authors': ['Russell Jurney'],\n",
       "  'date': 'September 11, 2015',\n",
       "  'title': 'Mapping Big Data'},\n",
       " {'authors': ['Raffael Marty'],\n",
       "  'date': 'April 27, 2015',\n",
       "  'title': 'The Security Data Lake'},\n",
       " {'authors': ['Mike Barlow', 'Gregory Fell'],\n",
       "  'date': 'April 06, 2016',\n",
       "  'title': 'Not All Data Is Created Equal'},\n",
       " {'authors': ['John King', 'Roger Magoulas'],\n",
       "  'date': 'September 11, 2015',\n",
       "  'title': '2015 Data Science Salary Survey'},\n",
       " {'authors': [\"Publisher: O'Reilly Media\"],\n",
       "  'date': 'October 26, 2015',\n",
       "  'title': 'Managing the Data Lake'},\n",
       " {'authors': [\"O'Reilly Media\", 'Inc.'],\n",
       "  'date': 'September 10, 2015',\n",
       "  'title': 'Python for Data Developers'},\n",
       " {'authors': ['Scott Murray'],\n",
       "  'date': 'March 2013',\n",
       "  'title': 'Interactive Data Visualization for the Web'},\n",
       " {'authors': ['Federico Castanedo'],\n",
       "  'date': 'November 06, 2015',\n",
       "  'title': 'Data Preparation in the Big Data Era'},\n",
       " {'authors': ['Hilary Mason', 'DJ Patil'],\n",
       "  'date': 'January 05, 2015',\n",
       "  'title': 'Data Driven: Creating a Data Culture'},\n",
       " {'authors': ['Aman Naimat'],\n",
       "  'date': 'July 19, 2016',\n",
       "  'title': 'The Big Data Market'},\n",
       " {'authors': ['Daniel Cowles'],\n",
       "  'date': 'April 16, 2015',\n",
       "  'title': 'Oil, Gas, and Data'},\n",
       " {'authors': ['Jerry Overton'],\n",
       "  'date': 'March 15, 2016',\n",
       "  'title': 'Going Pro in Data Science'},\n",
       " {'authors': ['Mike Barlow'],\n",
       "  'date': 'August 19, 2015',\n",
       "  'title': 'Data and Social Good'},\n",
       " {'authors': ['Julie Steele'],\n",
       "  'date': 'March 13, 2015',\n",
       "  'title': 'Understanding the Chief Data Officer'},\n",
       " {'authors': ['Russell Jurney'],\n",
       "  'date': 'September 11, 2015',\n",
       "  'title': 'Mapping Big Data'},\n",
       " {'authors': ['Raffael Marty'],\n",
       "  'date': 'April 27, 2015',\n",
       "  'title': 'The Security Data Lake'},\n",
       " {'authors': ['Mike Barlow', 'Gregory Fell'],\n",
       "  'date': 'April 06, 2016',\n",
       "  'title': 'Not All Data Is Created Equal'},\n",
       " {'authors': ['John King', 'Roger Magoulas'],\n",
       "  'date': 'September 11, 2015',\n",
       "  'title': '2015 Data Science Salary Survey'},\n",
       " {'authors': [\"Publisher: O'Reilly Media\"],\n",
       "  'date': 'October 26, 2015',\n",
       "  'title': 'Managing the Data Lake'},\n",
       " {'authors': [\"O'Reilly Media\", 'Inc.'],\n",
       "  'date': 'September 10, 2015',\n",
       "  'title': 'Python for Data Developers'},\n",
       " {'authors': ['Scott Murray'],\n",
       "  'date': 'March 2013',\n",
       "  'title': 'Interactive Data Visualization for the Web'},\n",
       " {'authors': ['Federico Castanedo'],\n",
       "  'date': 'November 06, 2015',\n",
       "  'title': 'Data Preparation in the Big Data Era'},\n",
       " {'authors': ['Hilary Mason', 'DJ Patil'],\n",
       "  'date': 'January 05, 2015',\n",
       "  'title': 'Data Driven: Creating a Data Culture'},\n",
       " {'authors': ['Aman Naimat'],\n",
       "  'date': 'July 19, 2016',\n",
       "  'title': 'The Big Data Market'},\n",
       " {'authors': ['Daniel Cowles'],\n",
       "  'date': 'April 16, 2015',\n",
       "  'title': 'Oil, Gas, and Data'},\n",
       " {'authors': ['Jerry Overton'],\n",
       "  'date': 'March 15, 2016',\n",
       "  'title': 'Going Pro in Data Science'},\n",
       " {'authors': ['Mike Barlow'],\n",
       "  'date': 'August 19, 2015',\n",
       "  'title': 'Data and Social Good'},\n",
       " {'authors': ['Julie Steele'],\n",
       "  'date': 'March 13, 2015',\n",
       "  'title': 'Understanding the Chief Data Officer'},\n",
       " {'authors': ['Russell Jurney'],\n",
       "  'date': 'September 11, 2015',\n",
       "  'title': 'Mapping Big Data'},\n",
       " {'authors': ['Raffael Marty'],\n",
       "  'date': 'April 27, 2015',\n",
       "  'title': 'The Security Data Lake'},\n",
       " {'authors': ['Mike Barlow', 'Gregory Fell'],\n",
       "  'date': 'April 06, 2016',\n",
       "  'title': 'Not All Data Is Created Equal'},\n",
       " {'authors': ['John King', 'Roger Magoulas'],\n",
       "  'date': 'September 11, 2015',\n",
       "  'title': '2015 Data Science Salary Survey'},\n",
       " {'authors': [\"Publisher: O'Reilly Media\"],\n",
       "  'date': 'October 26, 2015',\n",
       "  'title': 'Managing the Data Lake'},\n",
       " {'authors': [\"O'Reilly Media\", 'Inc.'],\n",
       "  'date': 'September 10, 2015',\n",
       "  'title': 'Python for Data Developers'},\n",
       " {'authors': ['Scott Murray'],\n",
       "  'date': 'March 2013',\n",
       "  'title': 'Interactive Data Visualization for the Web'},\n",
       " {'authors': ['Federico Castanedo'],\n",
       "  'date': 'November 06, 2015',\n",
       "  'title': 'Data Preparation in the Big Data Era'},\n",
       " {'authors': ['Hilary Mason', 'DJ Patil'],\n",
       "  'date': 'January 05, 2015',\n",
       "  'title': 'Data Driven: Creating a Data Culture'},\n",
       " {'authors': ['Aman Naimat'],\n",
       "  'date': 'July 19, 2016',\n",
       "  'title': 'The Big Data Market'},\n",
       " {'authors': ['Daniel Cowles'],\n",
       "  'date': 'April 16, 2015',\n",
       "  'title': 'Oil, Gas, and Data'},\n",
       " {'authors': ['Jerry Overton'],\n",
       "  'date': 'March 15, 2016',\n",
       "  'title': 'Going Pro in Data Science'},\n",
       " {'authors': ['Mike Barlow'],\n",
       "  'date': 'August 19, 2015',\n",
       "  'title': 'Data and Social Good'},\n",
       " {'authors': ['Julie Steele'],\n",
       "  'date': 'March 13, 2015',\n",
       "  'title': 'Understanding the Chief Data Officer'},\n",
       " {'authors': ['Russell Jurney'],\n",
       "  'date': 'September 11, 2015',\n",
       "  'title': 'Mapping Big Data'},\n",
       " {'authors': ['Raffael Marty'],\n",
       "  'date': 'April 27, 2015',\n",
       "  'title': 'The Security Data Lake'},\n",
       " {'authors': ['Mike Barlow', 'Gregory Fell'],\n",
       "  'date': 'April 06, 2016',\n",
       "  'title': 'Not All Data Is Created Equal'},\n",
       " {'authors': ['John King', 'Roger Magoulas'],\n",
       "  'date': 'September 11, 2015',\n",
       "  'title': '2015 Data Science Salary Survey'},\n",
       " {'authors': [\"Publisher: O'Reilly Media\"],\n",
       "  'date': 'October 26, 2015',\n",
       "  'title': 'Managing the Data Lake'},\n",
       " {'authors': [\"O'Reilly Media\", 'Inc.'],\n",
       "  'date': 'September 10, 2015',\n",
       "  'title': 'Python for Data Developers'},\n",
       " {'authors': ['Scott Murray'],\n",
       "  'date': 'March 2013',\n",
       "  'title': 'Interactive Data Visualization for the Web'},\n",
       " {'authors': ['Federico Castanedo'],\n",
       "  'date': 'November 06, 2015',\n",
       "  'title': 'Data Preparation in the Big Data Era'},\n",
       " {'authors': ['Hilary Mason', 'DJ Patil'],\n",
       "  'date': 'January 05, 2015',\n",
       "  'title': 'Data Driven: Creating a Data Culture'},\n",
       " {'authors': ['Aman Naimat'],\n",
       "  'date': 'July 19, 2016',\n",
       "  'title': 'The Big Data Market'},\n",
       " {'authors': ['Daniel Cowles'],\n",
       "  'date': 'April 16, 2015',\n",
       "  'title': 'Oil, Gas, and Data'},\n",
       " {'authors': ['Jerry Overton'],\n",
       "  'date': 'March 15, 2016',\n",
       "  'title': 'Going Pro in Data Science'},\n",
       " {'authors': ['Mike Barlow'],\n",
       "  'date': 'August 19, 2015',\n",
       "  'title': 'Data and Social Good'},\n",
       " {'authors': ['Julie Steele'],\n",
       "  'date': 'March 13, 2015',\n",
       "  'title': 'Understanding the Chief Data Officer'},\n",
       " {'authors': ['Russell Jurney'],\n",
       "  'date': 'September 11, 2015',\n",
       "  'title': 'Mapping Big Data'},\n",
       " {'authors': ['Raffael Marty'],\n",
       "  'date': 'April 27, 2015',\n",
       "  'title': 'The Security Data Lake'},\n",
       " {'authors': ['Mike Barlow', 'Gregory Fell'],\n",
       "  'date': 'April 06, 2016',\n",
       "  'title': 'Not All Data Is Created Equal'},\n",
       " {'authors': ['John King', 'Roger Magoulas'],\n",
       "  'date': 'September 11, 2015',\n",
       "  'title': '2015 Data Science Salary Survey'},\n",
       " {'authors': [\"Publisher: O'Reilly Media\"],\n",
       "  'date': 'October 26, 2015',\n",
       "  'title': 'Managing the Data Lake'},\n",
       " {'authors': [\"O'Reilly Media\", 'Inc.'],\n",
       "  'date': 'September 10, 2015',\n",
       "  'title': 'Python for Data Developers'},\n",
       " {'authors': ['Scott Murray'],\n",
       "  'date': 'March 2013',\n",
       "  'title': 'Interactive Data Visualization for the Web'},\n",
       " {'authors': ['Federico Castanedo'],\n",
       "  'date': 'November 06, 2015',\n",
       "  'title': 'Data Preparation in the Big Data Era'},\n",
       " {'authors': ['Hilary Mason', 'DJ Patil'],\n",
       "  'date': 'January 05, 2015',\n",
       "  'title': 'Data Driven: Creating a Data Culture'},\n",
       " {'authors': ['Aman Naimat'],\n",
       "  'date': 'July 19, 2016',\n",
       "  'title': 'The Big Data Market'},\n",
       " {'authors': ['Daniel Cowles'],\n",
       "  'date': 'April 16, 2015',\n",
       "  'title': 'Oil, Gas, and Data'},\n",
       " {'authors': ['Jerry Overton'],\n",
       "  'date': 'March 15, 2016',\n",
       "  'title': 'Going Pro in Data Science'},\n",
       " {'authors': ['Mike Barlow'],\n",
       "  'date': 'August 19, 2015',\n",
       "  'title': 'Data and Social Good'},\n",
       " {'authors': ['Julie Steele'],\n",
       "  'date': 'March 13, 2015',\n",
       "  'title': 'Understanding the Chief Data Officer'},\n",
       " {'authors': ['Russell Jurney'],\n",
       "  'date': 'September 11, 2015',\n",
       "  'title': 'Mapping Big Data'},\n",
       " {'authors': ['Raffael Marty'],\n",
       "  'date': 'April 27, 2015',\n",
       "  'title': 'The Security Data Lake'},\n",
       " {'authors': ['Mike Barlow', 'Gregory Fell'],\n",
       "  'date': 'April 06, 2016',\n",
       "  'title': 'Not All Data Is Created Equal'},\n",
       " {'authors': ['John King', 'Roger Magoulas'],\n",
       "  'date': 'September 11, 2015',\n",
       "  'title': '2015 Data Science Salary Survey'},\n",
       " {'authors': [\"Publisher: O'Reilly Media\"],\n",
       "  'date': 'October 26, 2015',\n",
       "  'title': 'Managing the Data Lake'},\n",
       " {'authors': [\"O'Reilly Media\", 'Inc.'],\n",
       "  'date': 'September 10, 2015',\n",
       "  'title': 'Python for Data Developers'},\n",
       " {'authors': ['Scott Murray'],\n",
       "  'date': 'March 2013',\n",
       "  'title': 'Interactive Data Visualization for the Web'},\n",
       " {'authors': ['Federico Castanedo'],\n",
       "  'date': 'November 06, 2015',\n",
       "  'title': 'Data Preparation in the Big Data Era'},\n",
       " {'authors': ['Hilary Mason', 'DJ Patil'],\n",
       "  'date': 'January 05, 2015',\n",
       "  'title': 'Data Driven: Creating a Data Culture'},\n",
       " {'authors': ['Aman Naimat'],\n",
       "  'date': 'July 19, 2016',\n",
       "  'title': 'The Big Data Market'},\n",
       " {'authors': ['Daniel Cowles'],\n",
       "  'date': 'April 16, 2015',\n",
       "  'title': 'Oil, Gas, and Data'},\n",
       " {'authors': ['Jerry Overton'],\n",
       "  'date': 'March 15, 2016',\n",
       "  'title': 'Going Pro in Data Science'},\n",
       " {'authors': ['Mike Barlow'],\n",
       "  'date': 'August 19, 2015',\n",
       "  'title': 'Data and Social Good'},\n",
       " {'authors': ['Julie Steele'],\n",
       "  'date': 'March 13, 2015',\n",
       "  'title': 'Understanding the Chief Data Officer'},\n",
       " {'authors': ['Russell Jurney'],\n",
       "  'date': 'September 11, 2015',\n",
       "  'title': 'Mapping Big Data'},\n",
       " {'authors': ['Raffael Marty'],\n",
       "  'date': 'April 27, 2015',\n",
       "  'title': 'The Security Data Lake'},\n",
       " {'authors': ['Mike Barlow', 'Gregory Fell'],\n",
       "  'date': 'April 06, 2016',\n",
       "  'title': 'Not All Data Is Created Equal'},\n",
       " {'authors': ['John King', 'Roger Magoulas'],\n",
       "  'date': 'September 11, 2015',\n",
       "  'title': '2015 Data Science Salary Survey'},\n",
       " {'authors': [\"Publisher: O'Reilly Media\"],\n",
       "  'date': 'October 26, 2015',\n",
       "  'title': 'Managing the Data Lake'},\n",
       " {'authors': [\"O'Reilly Media\", 'Inc.'],\n",
       "  'date': 'September 10, 2015',\n",
       "  'title': 'Python for Data Developers'},\n",
       " {'authors': ['Scott Murray'],\n",
       "  'date': 'March 2013',\n",
       "  'title': 'Interactive Data Visualization for the Web'},\n",
       " {'authors': ['Federico Castanedo'],\n",
       "  'date': 'November 06, 2015',\n",
       "  'title': 'Data Preparation in the Big Data Era'},\n",
       " {'authors': ['Hilary Mason', 'DJ Patil'],\n",
       "  'date': 'January 05, 2015',\n",
       "  'title': 'Data Driven: Creating a Data Culture'},\n",
       " {'authors': ['Aman Naimat'],\n",
       "  'date': 'July 19, 2016',\n",
       "  'title': 'The Big Data Market'},\n",
       " {'authors': ['Daniel Cowles'],\n",
       "  'date': 'April 16, 2015',\n",
       "  'title': 'Oil, Gas, and Data'},\n",
       " {'authors': ['Jerry Overton'],\n",
       "  'date': 'March 15, 2016',\n",
       "  'title': 'Going Pro in Data Science'},\n",
       " {'authors': ['Mike Barlow'],\n",
       "  'date': 'August 19, 2015',\n",
       "  'title': 'Data and Social Good'},\n",
       " {'authors': ['Julie Steele'],\n",
       "  'date': 'March 13, 2015',\n",
       "  'title': 'Understanding the Chief Data Officer'},\n",
       " {'authors': ['Russell Jurney'],\n",
       "  'date': 'September 11, 2015',\n",
       "  'title': 'Mapping Big Data'},\n",
       " {'authors': ['Raffael Marty'],\n",
       "  'date': 'April 27, 2015',\n",
       "  'title': 'The Security Data Lake'},\n",
       " {'authors': ['Mike Barlow', 'Gregory Fell'],\n",
       "  'date': 'April 06, 2016',\n",
       "  'title': 'Not All Data Is Created Equal'},\n",
       " {'authors': ['John King', 'Roger Magoulas'],\n",
       "  'date': 'September 11, 2015',\n",
       "  'title': '2015 Data Science Salary Survey'},\n",
       " {'authors': [\"Publisher: O'Reilly Media\"],\n",
       "  'date': 'October 26, 2015',\n",
       "  'title': 'Managing the Data Lake'},\n",
       " {'authors': [\"O'Reilly Media\", 'Inc.'],\n",
       "  'date': 'September 10, 2015',\n",
       "  'title': 'Python for Data Developers'},\n",
       " {'authors': ['Scott Murray'],\n",
       "  'date': 'March 2013',\n",
       "  'title': 'Interactive Data Visualization for the Web'},\n",
       " {'authors': ['Federico Castanedo'],\n",
       "  'date': 'November 06, 2015',\n",
       "  'title': 'Data Preparation in the Big Data Era'},\n",
       " {'authors': ['Hilary Mason', 'DJ Patil'],\n",
       "  'date': 'January 05, 2015',\n",
       "  'title': 'Data Driven: Creating a Data Culture'},\n",
       " {'authors': ['Aman Naimat'],\n",
       "  'date': 'July 19, 2016',\n",
       "  'title': 'The Big Data Market'},\n",
       " {'authors': ['Daniel Cowles'],\n",
       "  'date': 'April 16, 2015',\n",
       "  'title': 'Oil, Gas, and Data'},\n",
       " {'authors': ['Jerry Overton'],\n",
       "  'date': 'March 15, 2016',\n",
       "  'title': 'Going Pro in Data Science'},\n",
       " {'authors': ['Mike Barlow'],\n",
       "  'date': 'August 19, 2015',\n",
       "  'title': 'Data and Social Good'},\n",
       " {'authors': ['Julie Steele'],\n",
       "  'date': 'March 13, 2015',\n",
       "  'title': 'Understanding the Chief Data Officer'},\n",
       " {'authors': ['Russell Jurney'],\n",
       "  'date': 'September 11, 2015',\n",
       "  'title': 'Mapping Big Data'},\n",
       " {'authors': ['Raffael Marty'],\n",
       "  'date': 'April 27, 2015',\n",
       "  'title': 'The Security Data Lake'},\n",
       " {'authors': ['Mike Barlow', 'Gregory Fell'],\n",
       "  'date': 'April 06, 2016',\n",
       "  'title': 'Not All Data Is Created Equal'},\n",
       " {'authors': ['John King', 'Roger Magoulas'],\n",
       "  'date': 'September 11, 2015',\n",
       "  'title': '2015 Data Science Salary Survey'},\n",
       " {'authors': [\"Publisher: O'Reilly Media\"],\n",
       "  'date': 'October 26, 2015',\n",
       "  'title': 'Managing the Data Lake'},\n",
       " {'authors': [\"O'Reilly Media\", 'Inc.'],\n",
       "  'date': 'September 10, 2015',\n",
       "  'title': 'Python for Data Developers'},\n",
       " {'authors': ['Scott Murray'],\n",
       "  'date': 'March 2013',\n",
       "  'title': 'Interactive Data Visualization for the Web'},\n",
       " {'authors': ['Federico Castanedo'],\n",
       "  'date': 'November 06, 2015',\n",
       "  'title': 'Data Preparation in the Big Data Era'},\n",
       " {'authors': ['Hilary Mason', 'DJ Patil'],\n",
       "  'date': 'January 05, 2015',\n",
       "  'title': 'Data Driven: Creating a Data Culture'},\n",
       " {'authors': ['Aman Naimat'],\n",
       "  'date': 'July 19, 2016',\n",
       "  'title': 'The Big Data Market'},\n",
       " {'authors': ['Daniel Cowles'],\n",
       "  'date': 'April 16, 2015',\n",
       "  'title': 'Oil, Gas, and Data'},\n",
       " {'authors': ['Jerry Overton'],\n",
       "  'date': 'March 15, 2016',\n",
       "  'title': 'Going Pro in Data Science'},\n",
       " {'authors': ['Mike Barlow'],\n",
       "  'date': 'August 19, 2015',\n",
       "  'title': 'Data and Social Good'},\n",
       " {'authors': ['Julie Steele'],\n",
       "  'date': 'March 13, 2015',\n",
       "  'title': 'Understanding the Chief Data Officer'},\n",
       " {'authors': ['Russell Jurney'],\n",
       "  'date': 'September 11, 2015',\n",
       "  'title': 'Mapping Big Data'},\n",
       " {'authors': ['Raffael Marty'],\n",
       "  'date': 'April 27, 2015',\n",
       "  'title': 'The Security Data Lake'},\n",
       " {'authors': ['Mike Barlow', 'Gregory Fell'],\n",
       "  'date': 'April 06, 2016',\n",
       "  'title': 'Not All Data Is Created Equal'},\n",
       " {'authors': ['John King', 'Roger Magoulas'],\n",
       "  'date': 'September 11, 2015',\n",
       "  'title': '2015 Data Science Salary Survey'},\n",
       " {'authors': [\"Publisher: O'Reilly Media\"],\n",
       "  'date': 'October 26, 2015',\n",
       "  'title': 'Managing the Data Lake'},\n",
       " {'authors': [\"O'Reilly Media\", 'Inc.'],\n",
       "  'date': 'September 10, 2015',\n",
       "  'title': 'Python for Data Developers'}]"
      ]
     },
     "execution_count": 120,
     "metadata": {},
     "output_type": "execute_result"
    }
   ],
   "source": [
    "books"
   ]
  },
  {
   "cell_type": "code",
   "execution_count": 127,
   "metadata": {},
   "outputs": [
    {
     "name": "stdout",
     "output_type": "stream",
     "text": [
      "Counter({2015: 100, 2016: 30, 2013: 10})\n"
     ]
    },
    {
     "data": {
      "image/png": "[encoded data removed]",
      "text/plain": [
       "<Figure size 432x288 with 1 Axes>"
      ]
     },
     "metadata": {},
     "output_type": "display_data"
    }
   ],
   "source": [
    "def get_year(book):\n",
    "    return int(book['date'].split()[-1])\n",
    "\n",
    "from collections import Counter\n",
    "\n",
    "year_counts = Counter(get_year(book) for book in books\n",
    "                     )#if get_year(book) <= 2014)\n",
    "\n",
    "print(year_counts)\n",
    "\n",
    "import matplotlib.pyplot as plt\n",
    "\n",
    "years = sorted(year_counts)\n",
    "book_counts = [year_counts[year] for year in years]\n",
    "plt.plot(years, book_counts)\n",
    "plt.ylabel('# of data books')\n",
    "plt.title('Data is Big!')\n",
    "plt.show()"
   ]
  },
  {
   "cell_type": "code",
   "execution_count": null,
   "metadata": {},
   "outputs": [],
   "source": []
  }
 ],
 "metadata": {
  "kernelspec": {
   "display_name": "Python 3",
   "language": "python",
   "name": "python3"
  },
  "language_info": {
   "codemirror_mode": {
    "name": "ipython",
    "version": 3
   },
   "file_extension": ".py",
   "mimetype": "text/x-python",
   "name": "python",
   "nbconvert_exporter": "python",
   "pygments_lexer": "ipython3",
   "version": "3.6.5"
  }
 },
 "nbformat": 4,
 "nbformat_minor": 2
}
